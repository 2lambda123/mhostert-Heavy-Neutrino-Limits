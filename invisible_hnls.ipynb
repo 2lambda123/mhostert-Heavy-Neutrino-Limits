{
 "cells": [
  {
   "cell_type": "markdown",
   "metadata": {},
   "source": [
    "## Limits on Invisible Heavy Neutrinos\n",
    "\n",
    "This notebook plots the parameter space of invisible heavy neutrinos under the assumption of single flavor dominance.\n",
    "\n",
    "We combine the limits with some curves of relic density of neutrino-philic dark matter."
   ]
  },
  {
   "cell_type": "code",
   "execution_count": 3,
   "metadata": {},
   "outputs": [],
   "source": [
    "%load_ext autoreload\n",
    "%autoreload 2"
   ]
  },
  {
   "cell_type": "code",
   "execution_count": 4,
   "metadata": {},
   "outputs": [
    {
     "ename": "NameError",
     "evalue": "name 'limits' is not defined",
     "output_type": "error",
     "traceback": [
      "\u001b[0;31m---------------------------------------------------------------------------\u001b[0m",
      "\u001b[0;31mNameError\u001b[0m                                 Traceback (most recent call last)",
      "Input \u001b[0;32mIn [4]\u001b[0m, in \u001b[0;36m<module>\u001b[0;34m\u001b[0m\n\u001b[0;32m----> 1\u001b[0m electron \u001b[38;5;241m=\u001b[39m \u001b[43mlimits\u001b[49m(flavor\u001b[38;5;241m=\u001b[39m\u001b[38;5;124m'\u001b[39m\u001b[38;5;124mtau\u001b[39m\u001b[38;5;124m'\u001b[39m, invisible\u001b[38;5;241m=\u001b[39m\u001b[38;5;28;01mFalse\u001b[39;00m)\n\u001b[1;32m      2\u001b[0m x \u001b[38;5;241m=\u001b[39m np\u001b[38;5;241m.\u001b[39mgeomspace(\u001b[38;5;241m1\u001b[39m,\u001b[38;5;241m1e5\u001b[39m,\u001b[38;5;241m10000\u001b[39m)\n\u001b[1;32m      3\u001b[0m plt\u001b[38;5;241m.\u001b[39mloglog(x, electron\u001b[38;5;241m.\u001b[39minterp_func_all(x))\n",
      "\u001b[0;31mNameError\u001b[0m: name 'limits' is not defined"
     ]
    }
   ],
   "source": [
    "\n",
    "electron = limits(flavor='tau', invisible=False)\n",
    "x = np.geomspace(1,1e5,10000)\n",
    "plt.loglog(x, electron.interp_func_all(x))\n"
   ]
  },
  {
   "cell_type": "code",
   "execution_count": null,
   "metadata": {},
   "outputs": [],
   "source": []
  }
 ],
 "metadata": {
  "interpreter": {
   "hash": "aee8b7b246df8f9039afb4144a1f6fd8d2ca17a180786b69acc140d282b71a49"
  },
  "kernelspec": {
   "display_name": "Python 3.9.10 64-bit",
   "language": "python",
   "name": "python3"
  },
  "language_info": {
   "codemirror_mode": {
    "name": "ipython",
    "version": 3
   },
   "file_extension": ".py",
   "mimetype": "text/x-python",
   "name": "python",
   "nbconvert_exporter": "python",
   "pygments_lexer": "ipython3",
   "version": "3.9.10"
  },
  "orig_nbformat": 4
 },
 "nbformat": 4,
 "nbformat_minor": 2
}
